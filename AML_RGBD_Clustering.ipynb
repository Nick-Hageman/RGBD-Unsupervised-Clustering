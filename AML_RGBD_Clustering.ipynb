{
 "cells": [
  {
   "cell_type": "code",
   "execution_count": 1,
   "id": "249bd002",
   "metadata": {},
   "outputs": [],
   "source": [
    "# Original Code Template by Stephen Siemonsma"
   ]
  },
  {
   "cell_type": "code",
   "execution_count": 1,
   "id": "9ccf95ca",
   "metadata": {},
   "outputs": [
    {
     "data": {
      "text/html": [
       "<style>.container { width:100% !important; }</style>"
      ],
      "text/plain": [
       "<IPython.core.display.HTML object>"
      ]
     },
     "metadata": {},
     "output_type": "display_data"
    }
   ],
   "source": [
    "from IPython.display import display, HTML\n",
    "display(HTML(\"<style>.container { width:100% !important; }</style>\"))\n",
    "import sys\n",
    "sys.path.append(\"..\")\n",
    "sys.path.append(\"../DiffJPEG\")\n",
    "import torch\n",
    "import torch.nn as nn\n",
    "import torch.nn.functional as F\n",
    "import torch.optim as optim\n",
    "from torchvision.io import read_image\n",
    "import torchvision.transforms as T\n",
    "from abc import ABC, abstractmethod\n",
    "from torchvision.datasets.vision import VisionDataset\n",
    "from typing import Callable, cast, List, Optional, Tuple, Union\n",
    "from pathlib import Path\n",
    "from glob import glob\n",
    "from torchvision.datasets.utils import _read_pfm, download_and_extract_archive, verify_str_arg\n",
    "import numpy as np\n",
    "import cv2\n",
    "import matplotlib.pyplot as plt\n",
    "from PIL import Image\n",
    "from DiffJPEG import DiffJPEG\n",
    "from modules import compress_jpeg, decompress_jpeg\n",
    "from utils import diff_round, quality_to_factor\n",
    "import math\n",
    "from tqdm import tqdm\n",
    "from torchvision import datasets\n",
    "import random\n",
    "import time\n",
    "import functools\n",
    "from torchvision import transforms\n",
    "from torch.nn import Module\n",
    "from sklearn.cluster import KMeans\n",
    "from sklearn.metrics import adjusted_rand_score, adjusted_mutual_info_score"
   ]
  },
  {
   "cell_type": "code",
   "execution_count": 2,
   "id": "cc7078f2",
   "metadata": {},
   "outputs": [],
   "source": [
    "_read_pfm_file = functools.partial(_read_pfm, slice_channels=1)  # For reading PFM (Portable FloatMap) files from FlyingThings3D dataset"
   ]
  },
  {
   "cell_type": "code",
   "execution_count": 82,
   "id": "437ebaaa",
   "metadata": {},
   "outputs": [],
   "source": [
    "# Modified version of a PyTorch dataloader\n",
    "class MonkaaDataset(ABC, VisionDataset):\n",
    "    \"\"\"Base interface for Stereo matching datasets\"\"\"\n",
    "\n",
    "    _has_built_in_disparity_mask = False\n",
    "\n",
    "    def __init__(self, root: str, train_or_test: str, validation_or_nonvalidation: str, transforms: Optional[Callable] = None) -> None:\n",
    "        \"\"\"\n",
    "        Args:\n",
    "            root(str): Root directory of the dataset.\n",
    "            transforms(callable, optional): A function/transform that takes in Tuples of\n",
    "                (images, disparities, valid_masks) and returns a transformed version of each of them.\n",
    "                images is a Tuple of (``PIL.Image``, ``PIL.Image``)\n",
    "                disparities is a Tuple of (``np.ndarray``, ``np.ndarray``) with shape (1, H, W)\n",
    "                valid_masks is a Tuple of (``np.ndarray``, ``np.ndarray``) with shape (H, W)\n",
    "                In some cases, when a dataset does not provide disparities, the ``disparities`` and\n",
    "                ``valid_masks`` can be Tuples containing None values.\n",
    "                For training splits generally the datasets provide a minimal guarantee of\n",
    "                images: (``PIL.Image``, ``PIL.Image``)\n",
    "                disparities: (``np.ndarray``, ``None``) with shape (1, H, W)\n",
    "                Optionally, based on the dataset, it can return a ``mask`` as well:\n",
    "                valid_masks: (``np.ndarray | None``, ``None``) with shape (H, W)\n",
    "                For some test splits, the datasets provides outputs that look like:\n",
    "                imgaes: (``PIL.Image``, ``PIL.Image``)\n",
    "                disparities: (``None``, ``None``)\n",
    "                Optionally, based on the dataset, it can return a ``mask`` as well:\n",
    "                valid_masks: (``None``, ``None``)\n",
    "        \"\"\"\n",
    "        super().__init__(root=root)\n",
    "        self.transforms = transforms  # You can load up the transforms argument with you data augmentation\n",
    "        self.validation_or_nonvalidation = validation_or_nonvalidation\n",
    "        self.train_or_test = train_or_test\n",
    "\n",
    "        self._images = []  # type: ignore\n",
    "        self._disparities = []  # type: ignore\n",
    "        \n",
    "        root = Path(root)\n",
    "\n",
    "        if train_or_test == \"TRAIN\":\n",
    "            left_image_pattern = str(root / \"../../Monkaa/frames_cleanpass/TRAINING\" / validation_or_nonvalidation / \"*/left/*.png\")\n",
    "            left_disparity_pattern = str(root / \"../../Monkaa/disparity/TRAINING\" / validation_or_nonvalidation / \"*/left/*.pfm\")\n",
    "        elif (train_or_test == \"TESTING2\"):\n",
    "            left_image_pattern = str(root / \"../../Monkaa/frames_cleanpass/*/left/*.png\")\n",
    "            left_disparity_pattern = str(root / \"../../Monkaa/disparity/*/left/*.pfm\")\n",
    "        else:\n",
    "            left_image_pattern = str(root / \"../../Monkaa/frames_cleanpass/TESTING/*/left/*.png\")\n",
    "            left_disparity_pattern = str(root / \"../../Monkaa/disparity/TESTING/*/left/*.pfm\")\n",
    "            \n",
    "        \n",
    "        self._disparities += self._scan_pairs(left_disparity_pattern)\n",
    "        self._images += self._scan_pairs(left_image_pattern)\n",
    "\n",
    "\n",
    "    def _read_img(self, file_path: Union[str, Path]) -> Image.Image:\n",
    "        img = Image.open(file_path)\n",
    "        if img.mode != \"RGB\":\n",
    "            img = img.convert(\"RGB\")\n",
    "        return img\n",
    "\n",
    "    def _scan_pairs(self, paths_left_pattern: str):\n",
    "        left_paths = list(sorted(glob(paths_left_pattern)))\n",
    "\n",
    "        if not left_paths:\n",
    "            raise FileNotFoundError(f\"Could not find any files matching the patterns: {paths_left_pattern}\")\n",
    "\n",
    "        paths = left_paths\n",
    "        return paths\n",
    "\n",
    "    # function for reading disparity maps\n",
    "    def _read_disparity(self, file_path: str) -> Tuple[np.ndarray, None]:\n",
    "        disparity_map = _read_pfm_file(file_path)\n",
    "        disparity_map = np.abs(disparity_map)  # Ensure that the disparity is positive\n",
    "        valid_mask = None\n",
    "        return disparity_map\n",
    "\n",
    "    def __getitem__(self, index: int) -> np.ndarray:\n",
    "        \"\"\"Return example at given index.\n",
    "\n",
    "        Args:\n",
    "            index(int): The index of the example to retrieve\n",
    "\n",
    "        Returns:\n",
    "            tuple: A 3 or 4-tuple with ``(img_left, img_right, disparity, Optional[valid_mask])`` where ``valid_mask``\n",
    "                can be a numpy boolean mask of shape (H, W) if the dataset provides a file\n",
    "                indicating which disparity pixels are valid. The disparity is a numpy array of\n",
    "                shape (1, H, W) and the images are PIL images. ``disparity`` is None for\n",
    "                datasets on which for ``split=\"test\"`` the authors did not provide annotations.\n",
    "        \"\"\"\n",
    "        \n",
    "        # Only used the left disparity map, but we can use either (maybe just randomize it)\n",
    "        dsp_map_left = self._read_disparity(self._disparities[index])\n",
    "        img_left = self._read_img(self._images[index])\n",
    "        \n",
    "        dsp_maps = torch.from_numpy(dsp_map_left)\n",
    "        img_maps = torch.from_numpy(np.array(img_left))\n",
    "        img_maps = img_maps.permute(2, 0, 1) # this reshapes our tensor so we can combine RGB+D\n",
    "        \n",
    "        dsp_maps[dsp_maps <= 0] = 1e-6  # In case there are any disparities that equal 0, we need to make them a small positive value so that depth is never calculated as infinity (for depth normalization purposes)\n",
    "            \n",
    "        depth_maps = 1 / dsp_maps        \n",
    "        img_maps = img_maps / 255 # normalize the RGB values to a range [0, 1]\n",
    "        \n",
    "        rgbd_map = torch.cat((img_maps, depth_maps), dim=0) # combine RGB + D tensors\n",
    "        if self.transforms is not None: # perform transforms on ALL 4 channels\n",
    "            rgbd_map = self.transforms(rgbd_map)\n",
    " \n",
    "        # print(rgbd_map.shape)\n",
    "        # print(\"Depth map shape:\", depth_maps.shape)\n",
    "        # print(\"Image map shape:\", img_maps.shape)\n",
    "        # print(\"RGB-D map shape:\", rgbd_map.shape)\n",
    "        # print(\"RGB-D map DATA:\", rgbd_map[0][0])\n",
    "\n",
    "        return rgbd_map\n",
    "\n",
    "\n",
    "    def __len__(self) -> int:\n",
    "        return len(self._disparities)"
   ]
  },
  {
   "cell_type": "code",
   "execution_count": 104,
   "id": "2193b1cf-66c2-4b3c-bc08-942c31e4e522",
   "metadata": {},
   "outputs": [],
   "source": [
    "batch_size = 1\n",
    "\n",
    "transforms = None\n",
    "\n",
    "# Create Testing Dataset\n",
    "test_dataset = MonkaaDataset(\"\", \"TESTING\", \"\", transforms)\n",
    "test_loader = torch.utils.data.DataLoader(test_dataset, batch_size=batch_size, shuffle=True, drop_last=False) # for training (shuffle)\n",
    "eval_loader = torch.utils.data.DataLoader(test_dataset, batch_size=batch_size, shuffle=False, drop_last=False) # for evaluation (do NOT shuffle)\n"
   ]
  },
  {
   "cell_type": "code",
   "execution_count": 105,
   "id": "c50cdc67-71c3-4a5f-847a-7b4a0d064657",
   "metadata": {},
   "outputs": [
    {
     "name": "stdout",
     "output_type": "stream",
     "text": [
      "torch.Size([4, 540, 960])\n"
     ]
    }
   ],
   "source": [
    "print(test_dataset[0].shape)"
   ]
  },
  {
   "cell_type": "code",
   "execution_count": 98,
   "id": "c8712700-f830-4da2-a664-217ac47bb17e",
   "metadata": {},
   "outputs": [],
   "source": [
    "class Autoencoder(nn.Module):\n",
    "    def __init__(self):\n",
    "        super(Autoencoder, self).__init__()\n",
    "        self.encoder = nn.Sequential(\n",
    "            nn.Conv2d(4, 16, 3, stride=2, padding=1),  # Output: [16, x/2, y/2]\n",
    "            nn.ReLU(),\n",
    "            nn.Conv2d(16, 32, 3, stride=2, padding=1), # Output: [32, x/4, y/4]\n",
    "            nn.ReLU(),\n",
    "            nn.Conv2d(32, 64, 7)                      # Output: [64, 1, 1]\n",
    "        )\n",
    "        self.decoder = nn.Sequential(\n",
    "            nn.ConvTranspose2d(64, 32, 7),\n",
    "            nn.ReLU(),\n",
    "            nn.ConvTranspose2d(32, 16, 3, stride=2, padding=1, output_padding=1),\n",
    "            nn.ReLU(),\n",
    "            nn.ConvTranspose2d(16, 4, 3, stride=2, padding=1, output_padding=1),\n",
    "            nn.Sigmoid()  # Assuming input is normalized to [0,1]\n",
    "        )\n",
    "\n",
    "    def forward(self, x):\n",
    "        x = self.encoder(x) # we will only use this encoder portion of the model to extract features later\n",
    "        x = self.decoder(x)\n",
    "        return x\n",
    "\n",
    "device = torch.device(\"mps\")  # For M-series Macs\n",
    "#device = torch.device(\"cpu\")  # For slow training on CPU\n",
    "#device = torch.device(\"cuda\")  # For NVIDIA cards\n",
    "\n",
    "model = Autoencoder().to(device)\n",
    "criterion = nn.MSELoss()\n",
    "optimizer = torch.optim.Adam(model.parameters(), lr=1e-3)\n",
    "\n",
    "MSE_criterion = nn.MSELoss()\n",
    "L1_criterion = nn.L1Loss()\n",
    "BCE_criterion = nn.BCEWithLogitsLoss()"
   ]
  },
  {
   "cell_type": "code",
   "execution_count": 108,
   "id": "3854f265-3aab-424c-9e97-0847e3e88e51",
   "metadata": {},
   "outputs": [],
   "source": [
    "# --------------------------------------- SMALLER LATENT SPACE MODEL ---------------------------------------\n",
    "class Autoencoder(nn.Module):\n",
    "    def __init__(self):\n",
    "        super(Autoencoder, self).__init__()\n",
    "        self.encoder = nn.Sequential(\n",
    "            nn.Conv2d(4, 16, 3, stride=2, padding=1),  # Output: [16, x/2, y/2]\n",
    "            nn.ReLU(),\n",
    "            nn.Conv2d(16, 32, 3, stride=2, padding=1), # Output: [32, x/4, y/4]\n",
    "            nn.ReLU(),\n",
    "            nn.Conv2d(32, 64, 7),                      # Output: [64, 1, 1]\n",
    "            nn.ReLU(),  # Additional ReLU layer for non-negative output\n",
    "            nn.Conv2d(64, 8, 1)                      # Output: [8, 1, 1] - Further reduction to a smaller latent space\n",
    "        )\n",
    "        self.decoder = nn.Sequential(\n",
    "            nn.ConvTranspose2d(8, 64, 1),             # Reverse of encoder layers\n",
    "            nn.ReLU(),\n",
    "            nn.ConvTranspose2d(64, 32, 7),\n",
    "            nn.ReLU(),\n",
    "            nn.ConvTranspose2d(32, 16, 3, stride=2, padding=1, output_padding=1),\n",
    "            nn.ReLU(),\n",
    "            nn.ConvTranspose2d(16, 4, 3, stride=2, padding=1, output_padding=1),\n",
    "            nn.Sigmoid()  # Assuming input is normalized to [0,1]\n",
    "        )\n",
    "\n",
    "    def forward(self, x):\n",
    "        x = self.encoder(x) # we will only use this encoder portion of the model to extract features later\n",
    "        x = self.decoder(x)\n",
    "        return x\n",
    "\n",
    "device = torch.device(\"mps\")  # For M-series Macs\n",
    "#device = torch.device(\"cpu\")  # For slow training on CPU\n",
    "#device = torch.device(\"cuda\")  # For NVIDIA cards\n",
    "\n",
    "model = Autoencoder().to(device)\n",
    "criterion = nn.MSELoss()\n",
    "optimizer = torch.optim.Adam(model.parameters(), lr=1e-3)\n",
    "\n",
    "MSE_criterion = nn.MSELoss()\n",
    "L1_criterion = nn.L1Loss()\n",
    "BCE_criterion = nn.BCEWithLogitsLoss()"
   ]
  },
  {
   "cell_type": "code",
   "execution_count": 9,
   "id": "7e765260-682e-498c-9d85-e41d7a2ef251",
   "metadata": {},
   "outputs": [
    {
     "name": "stderr",
     "output_type": "stream",
     "text": [
      "Epoch 0 Training 1047: 100%|████| 1047/1047 [00:39<00:00, 26.46it/s, 0.0185]\n",
      "Epoch 1 Training 1047: 100%|████| 1047/1047 [00:32<00:00, 32.72it/s, 0.0065]\n",
      "Epoch 2 Training 1047: 100%|████| 1047/1047 [00:32<00:00, 32.54it/s, 0.0046]\n",
      "Epoch 3 Training 1047: 100%|████| 1047/1047 [00:32<00:00, 32.46it/s, 0.0044]\n",
      "Epoch 4 Training 1047: 100%|████| 1047/1047 [00:32<00:00, 32.28it/s, 0.0040]\n",
      "Epoch 5 Training 1047: 100%|████| 1047/1047 [00:32<00:00, 31.90it/s, 0.0035]\n",
      "Epoch 6 Training 1047: 100%|████| 1047/1047 [00:34<00:00, 30.03it/s, 0.0037]\n",
      "Epoch 7 Training 1047: 100%|████| 1047/1047 [00:37<00:00, 27.64it/s, 0.0031]\n",
      "Epoch 8 Training 1047: 100%|████| 1047/1047 [00:32<00:00, 31.98it/s, 0.0033]\n",
      "Epoch 9 Training 1047: 100%|████| 1047/1047 [00:32<00:00, 32.10it/s, 0.0028]\n",
      "Epoch 10 Training 1047: 100%|███| 1047/1047 [00:32<00:00, 31.94it/s, 0.0027]\n",
      "Epoch 11 Training 1047: 100%|███| 1047/1047 [00:32<00:00, 31.92it/s, 0.0028]\n",
      "Epoch 12 Training 1047: 100%|███| 1047/1047 [00:32<00:00, 31.93it/s, 0.0025]\n",
      "Epoch 13 Training 1047: 100%|███| 1047/1047 [00:32<00:00, 31.77it/s, 0.0025]\n",
      "Epoch 14 Training 1047: 100%|███| 1047/1047 [00:33<00:00, 31.61it/s, 0.0025]\n",
      "Epoch 15 Training 1047: 100%|███| 1047/1047 [00:32<00:00, 31.77it/s, 0.0024]\n",
      "Epoch 16 Training 1047: 100%|███| 1047/1047 [00:32<00:00, 31.83it/s, 0.0023]\n",
      "Epoch 17 Training 1047: 100%|███| 1047/1047 [00:32<00:00, 31.82it/s, 0.0023]\n",
      "Epoch 18 Training 1047: 100%|███| 1047/1047 [00:33<00:00, 31.66it/s, 0.0022]\n",
      "Epoch 19 Training 1047: 100%|███| 1047/1047 [00:32<00:00, 31.87it/s, 0.0024]\n",
      "Epoch 20 Training 844:  81%|████ | 844/1047 [00:26<00:06, 31.55it/s, 0.0029]\n"
     ]
    },
    {
     "ename": "KeyboardInterrupt",
     "evalue": "",
     "output_type": "error",
     "traceback": [
      "\u001b[0;31m---------------------------------------------------------------------------\u001b[0m",
      "\u001b[0;31mKeyboardInterrupt\u001b[0m                         Traceback (most recent call last)",
      "Cell \u001b[0;32mIn[9], line 26\u001b[0m\n\u001b[1;32m     24\u001b[0m optimizer\u001b[38;5;241m.\u001b[39mstep()\n\u001b[1;32m     25\u001b[0m \u001b[38;5;66;03m# scheduler.step()\u001b[39;00m\n\u001b[0;32m---> 26\u001b[0m acc_MSE_loss \u001b[38;5;241m+\u001b[39m\u001b[38;5;241m=\u001b[39m loss\u001b[38;5;241m.\u001b[39mitem()\n\u001b[1;32m     27\u001b[0m progress_bar\u001b[38;5;241m.\u001b[39mset_description(\u001b[38;5;124m'\u001b[39m\u001b[38;5;124mEpoch \u001b[39m\u001b[38;5;132;01m%i\u001b[39;00m\u001b[38;5;124m Training \u001b[39m\u001b[38;5;132;01m%i\u001b[39;00m\u001b[38;5;124m'\u001b[39m \u001b[38;5;241m%\u001b[39m (j, i\u001b[38;5;241m+\u001b[39m\u001b[38;5;241m1\u001b[39m))\n\u001b[1;32m     28\u001b[0m progress_bar\u001b[38;5;241m.\u001b[39mset_postfix_str(\u001b[38;5;124m'\u001b[39m\u001b[38;5;132;01m%.4f\u001b[39;00m\u001b[38;5;124m'\u001b[39m \u001b[38;5;241m%\u001b[39m (acc_MSE_loss\u001b[38;5;241m/\u001b[39m(i\u001b[38;5;241m+\u001b[39m\u001b[38;5;241m1\u001b[39m))) \u001b[38;5;66;03m# display the avg MSE loss\u001b[39;00m\n",
      "\u001b[0;31mKeyboardInterrupt\u001b[0m: "
     ]
    }
   ],
   "source": [
    "# Training the autoencoder\n",
    "training_losses = []\n",
    "validation_losses = []\n",
    "num_training_epochs = 50\n",
    "best_MSE_loss = torch.inf\n",
    "\n",
    "for j in range(num_training_epochs):\n",
    "    progress_bar = tqdm(test_loader, position=0) # Use the data loader with SHUFFLED data\n",
    "\n",
    "    acc_MSE_loss = 0 # track the accumulated MSE losses\n",
    "    acc_RMSE_loss = 0 # track the accumulated RMSE losses\n",
    "    \n",
    "    for i, depth_maps in enumerate(progress_bar):\n",
    "        optimizer.zero_grad()\n",
    "\n",
    "        depth_maps = depth_maps.to(device) # this tensor contains RGB+D\n",
    "\n",
    "        recovered_data = model(depth_maps) # run the input through the model to get our recovered data\n",
    "        loss = MSE_criterion(recovered_data, depth_maps)\n",
    "        loss.backward()\n",
    "        \n",
    "        optimizer.step()\n",
    "        # scheduler.step()\n",
    "        acc_MSE_loss += loss.item()\n",
    "        progress_bar.set_description('Epoch %i Training %i' % (j, i+1))\n",
    "        progress_bar.set_postfix_str('%.4f' % (acc_MSE_loss/(i+1))) # display the avg MSE loss\n",
    "    total_loss = (acc_MSE_loss / 1594)\n",
    "    training_losses.append(total_loss) # append the total loss for later plotting\n",
    "\n",
    "    if total_loss < best_MSE_loss: # check to see if we have our best performance, if so, save the weights\n",
    "        best_MSE_loss = total_loss\n",
    "        weights = model.state_dict()\n",
    "        torch.save(weights, \"./weights/clusterModel.weights\")"
   ]
  },
  {
   "cell_type": "code",
   "execution_count": 10,
   "id": "602938cf-c058-4dad-8abf-40d82fca74eb",
   "metadata": {},
   "outputs": [],
   "source": [
    "# Feature extraction for clustering\n",
    "weights = torch.load(\"./weights/clusterModel.weights\")\n",
    "model.load_state_dict(weights)\n",
    "model.eval()\n",
    "\n",
    "features = torch.Tensor().to(device)  # Initialize an empty tensor on the device if possible\n",
    "with torch.no_grad():\n",
    "    for i, data in enumerate(eval_loader): # extract the features on eval_loader, which is the data IN-ORDER so we can compare the results to our ground truth\n",
    "        inputs = data.to(device)\n",
    "        encoded_features = model.encoder(inputs)\n",
    "        encoded_features = encoded_features.view(inputs.size(0), -1)  # Flatten the features\n",
    "        if i % 10 == 0 and i > 0:  # Every 10 batches, concatenate and clear the list\n",
    "            features = torch.cat((features, encoded_features), dim=0)\n",
    "            encoded_features = torch.Tensor().to(device)  # Re-initialize to free memory\n",
    "        else:\n",
    "            features = torch.cat((features, encoded_features), dim=0)\n",
    "\n",
    "# Final concatenation if there are any remaining tensors\n",
    "if len(encoded_features) > 0:\n",
    "    features = torch.cat((features, encoded_features), dim=0)\n"
   ]
  },
  {
   "cell_type": "code",
   "execution_count": 11,
   "id": "35cc2f57-75b6-444b-a29a-95152bf7dc3b",
   "metadata": {},
   "outputs": [],
   "source": [
    "# Ensure the tensor is on CPU before converting to NumPy\n",
    "features_np = features.cpu().numpy()\n",
    "\n",
    "# Proceed with KMeans clustering\n",
    "kmeans = KMeans(n_clusters=7) # Input number of scenes for clustering\n",
    "clusters = kmeans.fit_predict(features_np) # Run the clustering algorithm on our extracted features from the input data"
   ]
  },
  {
   "cell_type": "code",
   "execution_count": null,
   "id": "d5f6a914-b9fc-432a-96e6-2d776abf9dbf",
   "metadata": {},
   "outputs": [],
   "source": [
    "np.set_printoptions(threshold=np.inf) # print everything, don't limit the output\n",
    "# print(clusters)"
   ]
  },
  {
   "cell_type": "code",
   "execution_count": null,
   "id": "a0098a53-1cda-4398-a3fb-271b181bd264",
   "metadata": {},
   "outputs": [],
   "source": [
    "# We can build our ground truth array since we know the order of the data being loaded and how many frames each has\n",
    "ground_truth = []\n",
    "\n",
    "for i in range(126): # rain of stones\n",
    "    ground_truth.append(0)\n",
    "for i in range(151): # eating camera 2\n",
    "    ground_truth.append(1)\n",
    "for i in range(91): # eating\n",
    "    ground_truth.append(2)\n",
    "for i in range(161): # family\n",
    "    ground_truth.append(3)\n",
    "for i in range(231): # lonetree difftex\n",
    "    ground_truth.append(4)\n",
    "for i in range(161): # lonetree winter\n",
    "    ground_truth.append(5)\n",
    "for i in range(197): # top view\n",
    "    ground_truth.append(6)\n",
    "\n",
    "# print(ground_truth)\n"
   ]
  },
  {
   "cell_type": "code",
   "execution_count": 117,
   "id": "06d8f489-6729-4aa4-be7e-eb6dfe0597a1",
   "metadata": {},
   "outputs": [
    {
     "name": "stdout",
     "output_type": "stream",
     "text": [
      "Adjusted Rand Index (ARI): 1.0\n",
      "Adjusted Mutual Information (AMI): 1.0\n"
     ]
    }
   ],
   "source": [
    "# Assuming ground_truth_labels is the array with ground truth labels\n",
    "# Assuming clusters is the array with the clustering results\n",
    "\n",
    "# Calculate Adjusted Rand Index (ARI)\n",
    "ari_score = adjusted_rand_score(ground_truth, clusters)\n",
    "\n",
    "# Calculate Adjusted Mutual Information (AMI)\n",
    "ami_score = adjusted_mutual_info_score(ground_truth, clusters)\n",
    "\n",
    "print(\"Adjusted Rand Index (ARI):\", ari_score)\n",
    "print(\"Adjusted Mutual Information (AMI):\", ami_score)"
   ]
  },
  {
   "cell_type": "code",
   "execution_count": 15,
   "id": "0a3527f5-ed6f-47f3-98f5-d0dd71b11c0b",
   "metadata": {},
   "outputs": [
    {
     "name": "stdout",
     "output_type": "stream",
     "text": [
      "20\n"
     ]
    },
    {
     "data": {
      "image/png": "[encoded data removed]",
      "text/plain": [
       "<Figure size 800x600 with 1 Axes>"
      ]
     },
     "metadata": {},
     "output_type": "display_data"
    }
   ],
   "source": [
    "print(len(training_losses))\n",
    "\n",
    "fig, axs = plt.subplots(1, 1, figsize=(8, 6))  # Adjust figsize as needed\n",
    "\n",
    "# Plot training losses\n",
    "axs.plot(training_losses, label='Training Loss')\n",
    "axs.set_title('Training Losses')\n",
    "axs.set_xlabel('Epoch')\n",
    "axs.set_ylabel('Loss')\n",
    "axs.legend()\n",
    "\n",
    "# Display the plot\n",
    "plt.tight_layout()\n",
    "plt.show()\n"
   ]
  },
  {
   "cell_type": "code",
   "execution_count": 130,
   "id": "2a13f320",
   "metadata": {},
   "outputs": [],
   "source": [
    "# Save final model, too, if you want, but it probably won't be the best\n",
    "weights = net.state_dict()\n",
    "torch.save(weights, \"./weights/colorful_depth_compression_ending.weights\")"
   ]
  },
  {
   "cell_type": "code",
   "execution_count": null,
   "id": "4de6f16e-9567-42c2-b35c-ccbb19505856",
   "metadata": {},
   "outputs": [],
   "source": []
  }
 ],
 "metadata": {
  "kernelspec": {
   "display_name": "Python 3 (ipykernel)",
   "language": "python",
   "name": "python3"
  },
  "language_info": {
   "codemirror_mode": {
    "name": "ipython",
    "version": 3
   },
   "file_extension": ".py",
   "mimetype": "text/x-python",
   "name": "python",
   "nbconvert_exporter": "python",
   "pygments_lexer": "ipython3",
   "version": "3.11.0"
  }
 },
 "nbformat": 4,
 "nbformat_minor": 5
}
